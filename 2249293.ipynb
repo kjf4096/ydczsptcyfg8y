{
 "cells": [
  {
   "cell_type": "markdown",
   "metadata": {
    "collapsed": false
   },
   "source": [
    "# 解压数据集"
   ]
  },
  {
   "cell_type": "markdown",
   "metadata": {
    "collapsed": false
   },
   "source": [
    "# 飞桨常规赛：PALM眼底彩照视盘探测与分割-8月第8名方案"
   ]
  },
  {
   "cell_type": "markdown",
   "metadata": {
    "collapsed": false
   },
   "source": [
    "# （1） 比赛介绍\n",
    "### 赛题介绍\n",
    "\n",
    "视网膜由黄斑向鼻侧约3mm处有一直径约1.5mm、境界清楚的淡红色圆盘状结构，称为视神经盘，简称视盘。视盘是眼底图像的一个重要特征，对其进行准确、快速地定位与分割对利用眼底图像进行疾病辅助诊断具有重要意义。\n",
    "\n",
    "\n",
    "![](https://ai.bdstatic.com/file/94C55072B6204D8BA4983CF94342C4AC)\n",
    "PALM眼底视盘检测与分割常规赛的重点是研究和发展与患者眼底照片结构分割相关的算法。该常规赛的目标是评估和比较在一个常见的视网膜眼底图像数据集上分割视盘的自动算法。该任务目的是对眼底图像的视盘进行检测，若存在视盘结构，需从眼底图像中分割出视盘区域；若无视盘结构，分割结果直接置全背景。\n",
    "\n",
    "### 赛程赛制\n",
    "（1）飞桨常规赛面向全社会公开报名，直至赛题下线；\n",
    "\n",
    "（2）飞桨常规赛不设初赛、复赛，以当月每位参赛选手提交的最优成绩排名。每月竞赛周期为本月 1 日至本月最后 1 日；\n",
    "\n",
    "（3）比赛期间选手每天最多可提交 5 次作品（预测结果+原始代码），系统自动选取最高成绩作为榜单记录；\n",
    "\n",
    "（4）每个月 1-5 日公布上一个月总榜。当月排名前10 且通过代码复查的选手可获得由百度飞桨颁发的荣誉证书。对于初次上榜的参赛选手，还可额外获得1份特别礼包（1个飞桨周边奖品+ 100小时GPU算力卡）。工作人员将以邮件形式通知上一月排名前10的选手提交材料供代码复查，请各位参赛选手留意邮箱通知。特别提醒： 已获得过特别礼包的参赛选手，如果基于本赛题撰写新的studio项目并被评为精选，才可再次获得1份特别礼包；\n",
    "\n",
    "（5） score超过0.99的第一位选手可额外获得大奖：小度在家；\n",
    "\n",
    "（6） 鼓励选手报名多个主题的飞桨常规赛，以赛促学，全方面提升开发者的深度学习能力。\n",
    "\n",
    "\n",
    "### 数据简介\n",
    "PALM眼底视盘检测与分割常规赛由中山大学中山眼科中心提供800张带病理性近视分类标注的眼底彩照供选手训练模型，另提供400张带标注数据供平台进行模型测试。\n",
    "\n",
    "### 数据说明\n",
    "本次常规赛提供的金标准由中山大学中山眼科中心的7名眼科医生手工进行视盘像素级标注，之后由另一位高级专家将它们融合为最终的标注结果。存储为BMP图像，与对应的眼底图像大小相同，标签为0代表视盘（黑色区域）；标签为255代表其他（白色区域）。\n",
    "\n",
    "### 训练数据集\n",
    "文件名称：Train\n",
    "Train文件夹里有fundus_images文件夹和Disc_Masks文件夹。\n",
    "\n",
    "fundus_images文件夹内包含800张眼底彩照，分辨率为1444×1444，或2124×2056。命名形如H0001.jpg、N0001.jpg、P0001.jpg和V0001.jpg。\n",
    "Disc_Masks文件夹内包含fundus_images里眼底彩照的视盘分割金标准，大小与对应的眼底彩照一致。命名前缀和对应的fundus_images文件夹里的图像命名一致，后缀为bmp。\n",
    "### 测试数据集\n",
    "文件名称：PALM-Testing400-Images\n",
    "包含400张眼底彩照，命名形如T0001.jpg。\n"
   ]
  },
  {
   "cell_type": "markdown",
   "metadata": {
    "collapsed": false
   },
   "source": [
    "# （2）个人思路\n",
    "\n",
    "### 自定义数据集\n",
    "\n",
    "\n",
    "```\n",
    "class dataset(paddle.io.Dataset):\n",
    "    def __init__(self,img_list,label_list,mode='train'):\n",
    "\n",
    "        self.image=img_list\n",
    "        self.label=label_list\n",
    "        self.mode=mode\n",
    "    def load_img(self, image_path,name):\n",
    "        if name=='img':\n",
    "            img=cv2.imread(image_path,1)\n",
    "            img=cv2.cvtColor(img,cv2.COLOR_BGR2RGB)\n",
    "        elif name=='label':\n",
    "            img=cv2.imread(image_path,1)\n",
    "            img=cv2.cvtColor(img,cv2.COLOR_BGR2GRAY)            \n",
    "        return img\n",
    "\n",
    "    def __getitem__(self,index):\n",
    "        img = self.load_img(self.image[index],'img')\n",
    "        label = self.load_img(self.label[index],'label')\n",
    "\n",
    "        if self.mode=='train':\n",
    "            img=train_transform(img)\n",
    "            label=label_transform(label)\n",
    "        else:\n",
    "            img=val_transform(img)\n",
    "            label=label_transform(label)\n",
    "\n",
    "      \n",
    "\n",
    "        label=np.squeeze(label)\n",
    "        label=paddle.unsqueeze(label,axis=0)\n",
    "        label = np.array(label, dtype='int64')\n",
    "        return img,label\n",
    "\n",
    "        \n",
    "    def __len__(self):\n",
    "        return len(self.image)\n",
    "```\n",
    "\n",
    "### 数据增强\n",
    "\n",
    "```\n",
    "import paddle.vision.transforms as T\n",
    "train_transform=T.Compose([\n",
    "                        T.Resize(size=[512,512]),                       \n",
    "                        T.ColorJitter(0.1, 0.1, 0.1, 0.1),\n",
    "\n",
    "                        T.Normalize(mean=[127.5, 127.5, 127.5],std=[127.5, 127.5, 127.5],data_format='HWC'),\n",
    "                        T.ToTensor(),\n",
    "                        ])\n",
    "val_transform=T.Compose([\n",
    "                        T.Resize(size=[512,512]),\n",
    "                        T.Normalize(mean=[127.5, 127.5, 127.5],std=[127.5, 127.5, 127.5],data_format='HWC'),\n",
    "                        T.ToTensor(),\n",
    "                        ])\n",
    "label_transform=T.Compose([\n",
    "                        T.Resize(size=[512,512]),\n",
    "\n",
    "                        T.Normalize(mean=[0],std=[255],data_format='HWC'),\n",
    "                        T.ToTensor(),\n",
    "                        ])\n",
    "```"
   ]
  },
  {
   "cell_type": "markdown",
   "metadata": {
    "collapsed": false
   },
   "source": [
    "### 使用 cosine annealing 的策略来动态调整学习率\n",
    "```\n",
    "lr = paddle.optimizer.lr.CosineAnnealingDecay(learning_rate=1e-4,\n",
    "                                                T_max=step_each_epoch * EPOCHS)\n",
    "```\n",
    "### 使用U型网络结构\n",
    "U-Net是一个U型网络结构，可以看做两个大的阶段，图像先经过Encoder编码器进行下采样得到高级语义特征图，再经过Decoder解码器上采样将特征图恢复到原图片的分辨率。"
   ]
  },
  {
   "cell_type": "code",
   "execution_count": null,
   "metadata": {
    "collapsed": false
   },
   "outputs": [],
   "source": [
    "!unzip -oq /home/aistudio/data/data102827/常规赛：PALM眼底彩照视盘探测与分割.zip"
   ]
  },
  {
   "cell_type": "code",
   "execution_count": null,
   "metadata": {
    "collapsed": false
   },
   "outputs": [],
   "source": [
    "!rm -fr __MACOSX"
   ]
  },
  {
   "cell_type": "markdown",
   "metadata": {
    "collapsed": false
   },
   "source": [
    "# （3）具体方案分享"
   ]
  },
  {
   "cell_type": "markdown",
   "metadata": {
    "collapsed": false
   },
   "source": [
    "## 3.1 自定义数据集"
   ]
  },
  {
   "cell_type": "code",
   "execution_count": 1,
   "metadata": {
    "collapsed": false
   },
   "outputs": [],
   "source": [
    "import io\r\n",
    "import cv2\r\n",
    "import os\r\n",
    "import matplotlib.pyplot as plt\r\n",
    "import numpy as np\r\n",
    "import paddle"
   ]
  },
  {
   "cell_type": "code",
   "execution_count": 2,
   "metadata": {
    "collapsed": false
   },
   "outputs": [],
   "source": [
    "\r\n",
    "train_path='常规赛：PALM眼底彩照视盘探测与分割/Train/fundus_image/' \r\n",
    "train_label_path='常规赛：PALM眼底彩照视盘探测与分割/Train/Disc_Masks/'\r\n",
    "train_list = os.listdir(train_path)\r\n",
    "images=[]\r\n",
    "labels=[]\r\n",
    "label_list=[]\r\n",
    "image_list=[]\r\n",
    "for i in range(len(train_list)):\r\n",
    "    images.append(train_path+train_list[i])\r\n",
    "    labels.append(train_label_path+train_list[i][:-3]+'bmp')\r\n",
    "    image_list.append(train_path+train_list[i])\r\n",
    "    label_list.append(train_label_path+train_list[i][:-3]+'bmp')"
   ]
  },
  {
   "cell_type": "code",
   "execution_count": 3,
   "metadata": {
    "collapsed": false
   },
   "outputs": [],
   "source": [
    "test_path='常规赛：PALM眼底彩照视盘探测与分割/PALM-Testing400-Images/'\r\n",
    "test_list = os.listdir(test_path)\r\n",
    "test_images=[]\r\n",
    "test_label=[]\r\n",
    "test_size=[]\r\n",
    "for i in range(len(test_list)):\r\n",
    "    test_images.append(test_path+test_list[i])\r\n",
    "    test_label.append(train_label_path+train_list[0][:-3]+'bmp')\r\n",
    "    img=cv2.imread(test_path+test_list[i])\r\n",
    "    test_size.append(img.shape)\r\n",
    "\r\n"
   ]
  },
  {
   "cell_type": "code",
   "execution_count": 4,
   "metadata": {
    "collapsed": false
   },
   "outputs": [],
   "source": [
    "test_size=np.array(test_size)"
   ]
  },
  {
   "cell_type": "code",
   "execution_count": 5,
   "metadata": {
    "collapsed": false
   },
   "outputs": [],
   "source": [
    "def write_file(mode, images, labels):\r\n",
    "    with open('./{}.txt'.format(mode), 'w') as f:\r\n",
    "        for i in range(len(images)):\r\n",
    "            f.write('{}\\t{}\\n'.format(images[i], labels[i]))"
   ]
  },
  {
   "cell_type": "code",
   "execution_count": null,
   "metadata": {
    "collapsed": false
   },
   "outputs": [],
   "source": [
    "\r\n",
    "eval_num = int(len(images) * 0.15)\r\n",
    "write_file('train', images[:-eval_num], labels[:-eval_num])\r\n",
    "write_file('test', images[-eval_num:], labels[-eval_num:])\r\n",
    "write_file('predict', images[-eval_num:], labels[-eval_num:])"
   ]
  },
  {
   "cell_type": "code",
   "execution_count": null,
   "metadata": {
    "collapsed": false
   },
   "outputs": [
    {
     "name": "stderr",
     "output_type": "stream",
     "text": [
      "/opt/conda/envs/python35-paddle120-env/lib/python3.7/site-packages/matplotlib/cbook/__init__.py:2349: DeprecationWarning: Using or importing the ABCs from 'collections' instead of from 'collections.abc' is deprecated, and in 3.8 it will stop working\n",
      "  if isinstance(obj, collections.Iterator):\n",
      "/opt/conda/envs/python35-paddle120-env/lib/python3.7/site-packages/matplotlib/cbook/__init__.py:2366: DeprecationWarning: Using or importing the ABCs from 'collections' instead of from 'collections.abc' is deprecated, and in 3.8 it will stop working\n",
      "  return list(data) if isinstance(data, collections.MappingView) else data\n",
      "/opt/conda/envs/python35-paddle120-env/lib/python3.7/site-packages/matplotlib/image.py:425: DeprecationWarning: np.asscalar(a) is deprecated since NumPy v1.16, use a.item() instead\n",
      "  a_min = np.asscalar(a_min.astype(scaled_dtype))\n",
      "/opt/conda/envs/python35-paddle120-env/lib/python3.7/site-packages/matplotlib/image.py:426: DeprecationWarning: np.asscalar(a) is deprecated since NumPy v1.16, use a.item() instead\n",
      "  a_max = np.asscalar(a_max.astype(scaled_dtype))\n"
     ]
    },
    {
     "data": {
      "image/png": "[encoded data removed]",
      "text/plain": [
       "<Figure size 432x288 with 2 Axes>"
      ]
     },
     "metadata": {},
     "output_type": "display_data"
    },
    {
     "data": {
      "image/png": "[encoded data removed]",
      "text/plain": [
       "<Figure size 432x288 with 2 Axes>"
      ]
     },
     "metadata": {},
     "output_type": "display_data"
    },
    {
     "data": {
      "image/png": "[encoded data removed]",
      "text/plain": [
       "<Figure size 432x288 with 2 Axes>"
      ]
     },
     "metadata": {},
     "output_type": "display_data"
    }
   ],
   "source": [
    "from PIL import Image as PilImage\r\n",
    "import numpy as np\r\n",
    "import matplotlib.pyplot as plt\r\n",
    "with open('./train.txt', 'r') as f:\r\n",
    "    i = 0\r\n",
    "\r\n",
    "    for line in f.readlines():\r\n",
    "        image_path, label_path = line.strip().split('\\t')\r\n",
    "        image = np.array(PilImage.open(image_path))\r\n",
    "        label = np.array(PilImage.open(label_path))\r\n",
    "    \r\n",
    "        if i > 2:\r\n",
    "            break\r\n",
    "        # 进行图片的展示\r\n",
    "        plt.figure()\r\n",
    "\r\n",
    "        plt.subplot(1,2,1), \r\n",
    "        plt.title('Train Image')\r\n",
    "        plt.imshow(image.astype('uint8'))\r\n",
    "        plt.axis('off')\r\n",
    "\r\n",
    "        plt.subplot(1,2,2), \r\n",
    "        plt.title('Label')\r\n",
    "        plt.imshow(label.astype('uint8'), cmap='gray')\r\n",
    "        plt.axis('off')\r\n",
    "\r\n",
    "        plt.show()\r\n",
    "        i = i + 1"
   ]
  },
  {
   "cell_type": "code",
   "execution_count": 5,
   "metadata": {
    "collapsed": false
   },
   "outputs": [],
   "source": [
    "import paddle.vision.transforms as T\r\n",
    "train_transform=T.Compose([\r\n",
    "                        T.Resize(size=[512,512]),                       \r\n",
    "                        T.ColorJitter(0.1, 0.1, 0.1, 0.1),\r\n",
    "\r\n",
    "                        T.Normalize(mean=[127.5, 127.5, 127.5],std=[127.5, 127.5, 127.5],data_format='HWC'),\r\n",
    "                        T.ToTensor(),\r\n",
    "                        ])\r\n",
    "val_transform=T.Compose([\r\n",
    "                        T.Resize(size=[512,512]),\r\n",
    "                        T.Normalize(mean=[127.5, 127.5, 127.5],std=[127.5, 127.5, 127.5],data_format='HWC'),\r\n",
    "                        T.ToTensor(),\r\n",
    "                        ])\r\n",
    "label_transform=T.Compose([\r\n",
    "                        T.Resize(size=[512,512]),\r\n",
    "\r\n",
    "                        T.Normalize(mean=[0],std=[255],data_format='HWC'),\r\n",
    "                        T.ToTensor(),\r\n",
    "                        ])"
   ]
  },
  {
   "cell_type": "code",
   "execution_count": 6,
   "metadata": {
    "collapsed": false
   },
   "outputs": [],
   "source": [
    "import matplotlib.pyplot as plt\r\n",
    "import cv2\r\n",
    "import numpy as np\r\n",
    "img1=cv2.imread(label_list[1],1)\r\n",
    "img1=cv2.cvtColor(img1,cv2.COLOR_BGR2GRAY)\r\n",
    "\r\n",
    "\r\n",
    "\r\n",
    "plt.imshow(img1,'gray')\r\n",
    "plt.show()\r\n",
    "\r\n",
    "\r\n",
    "img1=label_transform(img1)\r\n",
    "\r\n",
    "img1=np.squeeze(img1)\r\n",
    "print(img1.shape)\r\n",
    "img1=img1.transpose([1,2,0])\r\n",
    "\r\n",
    "plt.imshow(img1,'gray')\r\n",
    "plt.show()\r\n",
    "\r\n",
    "img2=cv2.imread(image_list[1],1)\r\n",
    "img2=cv2.cvtColor(img2,cv2.COLOR_BGR2RGB)\r\n",
    "img2=train_transform(img2)\r\n",
    "img2=img2.transpose([1,2,0])\r\n",
    "plt.imshow(img2)\r\n",
    "plt.show()\r\n",
    "\r\n",
    "\r\n",
    "##img3=cv2.addWeighted(img4,0.1,img2,0.9,0)\r\n",
    "#plt.imshow(img3)\r\n",
    "#plt.show()"
   ]
  },
  {
   "cell_type": "code",
   "execution_count": 7,
   "metadata": {
    "collapsed": false
   },
   "outputs": [],
   "source": [
    "import paddle\r\n",
    "\r\n",
    "import numpy as np\r\n",
    "class dataset(paddle.io.Dataset):\r\n",
    "    def __init__(self,img_list,label_list,mode='train'):\r\n",
    "\r\n",
    "        self.image=img_list\r\n",
    "        self.label=label_list\r\n",
    "        self.mode=mode\r\n",
    "    def load_img(self, image_path,name):\r\n",
    "        if name=='img':\r\n",
    "            img=cv2.imread(image_path,1)\r\n",
    "            img=cv2.cvtColor(img,cv2.COLOR_BGR2RGB)\r\n",
    "        elif name=='label':\r\n",
    "            img=cv2.imread(image_path,1)\r\n",
    "            img=cv2.cvtColor(img,cv2.COLOR_BGR2GRAY)            \r\n",
    "        return img\r\n",
    "\r\n",
    "    def __getitem__(self,index):\r\n",
    "        img = self.load_img(self.image[index],'img')\r\n",
    "        label = self.load_img(self.label[index],'label')\r\n",
    "\r\n",
    "        if self.mode=='train':\r\n",
    "            img=train_transform(img)\r\n",
    "            label=label_transform(label)\r\n",
    "        else:\r\n",
    "            img=val_transform(img)\r\n",
    "            label=label_transform(label)\r\n",
    "\r\n",
    "      \r\n",
    "\r\n",
    "        label=np.squeeze(label)\r\n",
    "        label=paddle.unsqueeze(label,axis=0)\r\n",
    "        label = np.array(label, dtype='int64')\r\n",
    "        return img,label\r\n",
    "\r\n",
    "        \r\n",
    "    def __len__(self):\r\n",
    "        return len(self.image)"
   ]
  },
  {
   "cell_type": "code",
   "execution_count": null,
   "metadata": {
    "collapsed": false
   },
   "outputs": [],
   "source": [
    "import random\r\n",
    "\r\n",
    "from paddle.io import Dataset\r\n",
    "from paddle.vision.transforms import transforms as T\r\n",
    "\r\n",
    "\r\n",
    "class PetDataset(Dataset):\r\n",
    "    \"\"\"\r\n",
    "    数据集定义\r\n",
    "    \"\"\"\r\n",
    "    def __init__(self, mode='train'):\r\n",
    "        \"\"\"\r\n",
    "        构造函数\r\n",
    "        \"\"\"\r\n",
    "        self.image_size = IMAGE_SIZE\r\n",
    "        self.mode = mode.lower()\r\n",
    "        \r\n",
    "        assert self.mode in ['train', 'test', 'predict'], \\\r\n",
    "            \"mode should be 'train' or 'test' or 'predict', but got {}\".format(self.mode)\r\n",
    "        \r\n",
    "        self.train_images = []\r\n",
    "        self.label_images = []\r\n",
    "\r\n",
    "        with open('./{}.txt'.format(self.mode), 'r') as f:\r\n",
    "            for line in f.readlines():\r\n",
    "                image, label = line.strip().split('\\t')\r\n",
    "                self.train_images.append(image)\r\n",
    "                self.label_images.append(label)\r\n",
    "        \r\n",
    "    def _load_img(self, path, color_mode='rgb', transforms=[]):\r\n",
    "        \"\"\"\r\n",
    "        统一的图像处理接口封装，用于规整图像大小和通道\r\n",
    "        \"\"\"\r\n",
    "        with open(path, 'rb') as f:\r\n",
    "            img = PilImage.open(io.BytesIO(f.read()))\r\n",
    "            if color_mode == 'grayscale':\r\n",
    "                # if image is not already an 8-bit, 16-bit or 32-bit grayscale image\r\n",
    "                # convert it to an 8-bit grayscale image.\r\n",
    "                if img.mode not in ('L', 'I;16', 'I'):\r\n",
    "                    img = img.convert('L')\r\n",
    "            elif color_mode == 'rgba':\r\n",
    "                if img.mode != 'RGBA':\r\n",
    "                    img = img.convert('RGBA')\r\n",
    "            elif color_mode == 'rgb':\r\n",
    "                if img.mode != 'RGB':\r\n",
    "                    img = img.convert('RGB')\r\n",
    "            else:\r\n",
    "                raise ValueError('color_mode must be \"grayscale\", \"rgb\", or \"rgba\"')\r\n",
    "            \r\n",
    "            return T.Compose([\r\n",
    "                T.Resize(self.image_size)\r\n",
    "            ] + transforms)(img)\r\n",
    "\r\n",
    "    def __getitem__(self, idx):\r\n",
    "        \"\"\"\r\n",
    "        返回 image, label\r\n",
    "        \"\"\"\r\n",
    "        train_image = self._load_img(self.train_images[idx], \r\n",
    "                                     transforms=[\r\n",
    "                                         T.Transpose(), \r\n",
    "                                         T.Normalize(mean=127.5, std=127.5)\r\n",
    "                                     ]) # 加载原始图像\r\n",
    "        label_image = self._load_img(self.label_images[idx], \r\n",
    "                                     color_mode='grayscale',\r\n",
    "                                     transforms=[T.Grayscale()]) # 加载Label图像\r\n",
    "    \r\n",
    "        # 返回image, label\r\n",
    "        train_image = np.array(train_image, dtype='float32')\r\n",
    "        label_image = np.array(label_image, dtype='int64')\r\n",
    "        return train_image, label_image\r\n",
    "        \r\n",
    "    def __len__(self):\r\n",
    "        \"\"\"\r\n",
    "        返回数据集总数\r\n",
    "        \"\"\"\r\n",
    "        return len(self.train_images)"
   ]
  },
  {
   "cell_type": "markdown",
   "metadata": {
    "collapsed": false
   },
   "source": [
    "## 3.2 模型组网\n",
    "\n",
    "U-Net是一个U型网络结构，可以看做两个大的阶段，图像先经过Encoder编码器进行下采样得到高级语义特征图，再经过Decoder解码器上采样将特征图恢复到原图片的分辨率。\n",
    "\n",
    "### 3.2.1 定义SeparableConv2D接口\n",
    "\n",
    "为了减少卷积操作中的训练参数来提升性能，是继承paddle.nn.Layer自定义了一个SeparableConv2D Layer类，整个过程是把filter_size * filter_size * num_filters的Conv2D操作拆解为两个子Conv2D，先对输入数据的每个通道使用filter_size * filter_size * 1的卷积核进行计算，输入输出通道数目相同，之后在使用1 * 1 * num_filters的卷积核计算。"
   ]
  },
  {
   "cell_type": "code",
   "execution_count": 8,
   "metadata": {
    "collapsed": false
   },
   "outputs": [
    {
     "name": "stderr",
     "output_type": "stream",
     "text": [
      "/opt/conda/envs/python35-paddle120-env/lib/python3.7/site-packages/ipykernel_launcher.py:34: DeprecationWarning: `np.int` is a deprecated alias for the builtin `int`. To silence this warning, use `int` by itself. Doing this will not modify any behavior and is safe. When replacing `np.int`, you may wish to use e.g. `np.int64` or `np.int32` to specify the precision. If you wish to review your current use, check the release note link for additional information.\n",
      "Deprecated in NumPy 1.20; for more details and guidance: https://numpy.org/devdocs/release/1.20.0-notes.html#deprecations\n"
     ]
    }
   ],
   "source": [
    "from paddle.nn import functional as F\r\n",
    "import paddle\r\n",
    "class SeparableConv2D(paddle.nn.Layer):\r\n",
    "    def __init__(self, \r\n",
    "                 in_channels, \r\n",
    "                 out_channels, \r\n",
    "                 kernel_size, \r\n",
    "                 stride=1, \r\n",
    "                 padding=0, \r\n",
    "                 dilation=1, \r\n",
    "                 groups=None, \r\n",
    "                 weight_attr=None, \r\n",
    "                 bias_attr=None, \r\n",
    "                 data_format=\"NCHW\"):\r\n",
    "        super(SeparableConv2D, self).__init__()\r\n",
    "\r\n",
    "        self._padding = padding\r\n",
    "        self._stride = stride\r\n",
    "        self._dilation = dilation\r\n",
    "        self._in_channels = in_channels\r\n",
    "        self._data_format = data_format\r\n",
    "\r\n",
    "        # 第一次卷积参数，没有偏置参数\r\n",
    "        filter_shape = [in_channels, 1] + self.convert_to_list(kernel_size, 2, 'kernel_size')\r\n",
    "        self.weight_conv = self.create_parameter(shape=filter_shape, attr=weight_attr)\r\n",
    "\r\n",
    "        # 第二次卷积参数\r\n",
    "        filter_shape = [out_channels, in_channels] + self.convert_to_list(1, 2, 'kernel_size')\r\n",
    "        self.weight_pointwise = self.create_parameter(shape=filter_shape, attr=weight_attr)\r\n",
    "        self.bias_pointwise = self.create_parameter(shape=[out_channels], \r\n",
    "                                                    attr=bias_attr, \r\n",
    "                                                    is_bias=True)\r\n",
    "    \r\n",
    "    def convert_to_list(self, value, n, name, dtype=np.int):\r\n",
    "        if isinstance(value, dtype):\r\n",
    "            return [value, ] * n\r\n",
    "        else:\r\n",
    "            try:\r\n",
    "                value_list = list(value)\r\n",
    "            except TypeError:\r\n",
    "                raise ValueError(\"The \" + name +\r\n",
    "                                \"'s type must be list or tuple. Received: \" + str(\r\n",
    "                                    value))\r\n",
    "            if len(value_list) != n:\r\n",
    "                raise ValueError(\"The \" + name + \"'s length must be \" + str(n) +\r\n",
    "                                \". Received: \" + str(value))\r\n",
    "            for single_value in value_list:\r\n",
    "                try:\r\n",
    "                    dtype(single_value)\r\n",
    "                except (ValueError, TypeError):\r\n",
    "                    raise ValueError(\r\n",
    "                        \"The \" + name + \"'s type must be a list or tuple of \" + str(\r\n",
    "                            n) + \" \" + str(dtype) + \" . Received: \" + str(\r\n",
    "                                value) + \" \"\r\n",
    "                        \"including element \" + str(single_value) + \" of type\" + \" \"\r\n",
    "                        + str(type(single_value)))\r\n",
    "            return value_list\r\n",
    "    \r\n",
    "    def forward(self, inputs):\r\n",
    "        conv_out = F.conv2d(inputs, \r\n",
    "                            self.weight_conv, \r\n",
    "                            padding=self._padding,\r\n",
    "                            stride=self._stride,\r\n",
    "                            dilation=self._dilation,\r\n",
    "                            groups=self._in_channels,\r\n",
    "                            data_format=self._data_format)\r\n",
    "        \r\n",
    "        out = F.conv2d(conv_out,\r\n",
    "                       self.weight_pointwise,\r\n",
    "                       bias=self.bias_pointwise,\r\n",
    "                       padding=0,\r\n",
    "                       stride=1,\r\n",
    "                       dilation=1,\r\n",
    "                       groups=1,\r\n",
    "                       data_format=self._data_format)\r\n",
    "\r\n",
    "        return out"
   ]
  },
  {
   "cell_type": "markdown",
   "metadata": {
    "collapsed": false
   },
   "source": [
    "### 3.2.2 定义Encoder编码器\n",
    "\n",
    "将网络结构中的Encoder下采样过程进行了一个Layer封装，方便后续调用，减少代码编写，下采样是有一个模型逐渐向下画曲线的一个过程，这个过程中是不断的重复一个单元结构将通道数不断增加，形状不断缩小，并且引入残差网络结构，将这些都抽象出来进行统一封装。"
   ]
  },
  {
   "cell_type": "code",
   "execution_count": 9,
   "metadata": {
    "collapsed": false
   },
   "outputs": [],
   "source": [
    "class Encoder(paddle.nn.Layer):\r\n",
    "    def __init__(self, in_channels, out_channels):\r\n",
    "        super(Encoder, self).__init__()\r\n",
    "        \r\n",
    "        self.relus = paddle.nn.LayerList(\r\n",
    "            [paddle.nn.ReLU() for i in range(2)])\r\n",
    "        self.separable_conv_01 = SeparableConv2D(in_channels, \r\n",
    "                                                 out_channels, \r\n",
    "                                                 kernel_size=3, \r\n",
    "                                                 padding='same')\r\n",
    "        self.bns = paddle.nn.LayerList(\r\n",
    "            [paddle.nn.BatchNorm2D(out_channels) for i in range(2)])\r\n",
    "        \r\n",
    "        self.separable_conv_02 = SeparableConv2D(out_channels, \r\n",
    "                                                 out_channels, \r\n",
    "                                                 kernel_size=3, \r\n",
    "                                                 padding='same')\r\n",
    "        self.pool = paddle.nn.MaxPool2D(kernel_size=3, stride=2, padding=1)\r\n",
    "        self.residual_conv = paddle.nn.Conv2D(in_channels, \r\n",
    "                                              out_channels, \r\n",
    "                                              kernel_size=1, \r\n",
    "                                              stride=2, \r\n",
    "                                              padding='same')\r\n",
    "\r\n",
    "    def forward(self, inputs):\r\n",
    "        previous_block_activation = inputs\r\n",
    "        \r\n",
    "        y = self.relus[0](inputs)\r\n",
    "        y = self.separable_conv_01(y)\r\n",
    "        y = self.bns[0](y)\r\n",
    "        y = self.relus[1](y)\r\n",
    "        y = self.separable_conv_02(y)\r\n",
    "        y = self.bns[1](y)\r\n",
    "        y = self.pool(y)\r\n",
    "        \r\n",
    "        residual = self.residual_conv(previous_block_activation)\r\n",
    "        y = paddle.add(y, residual)\r\n",
    "\r\n",
    "        return y"
   ]
  },
  {
   "cell_type": "markdown",
   "metadata": {
    "collapsed": false
   },
   "source": [
    "### 3.3.3 定义Decoder解码器\n",
    "\n",
    "在通道数达到最大得到高级语义特征图后，网络结构会开始进行decode操作，进行上采样，通道数逐渐减小，对应图片尺寸逐步增加，直至恢复到原图像大小，那么这个过程里面也是通过不断的重复相同结构的残差网络完成，也是为了减少代码编写，将这个过程定义一个Layer来放到模型组网中使用。"
   ]
  },
  {
   "cell_type": "code",
   "execution_count": 10,
   "metadata": {
    "collapsed": false
   },
   "outputs": [],
   "source": [
    "class Decoder(paddle.nn.Layer):\r\n",
    "    def __init__(self, in_channels, out_channels):\r\n",
    "        super(Decoder, self).__init__()\r\n",
    "\r\n",
    "        self.relus = paddle.nn.LayerList(\r\n",
    "            [paddle.nn.ReLU() for i in range(2)])\r\n",
    "        self.conv_transpose_01 = paddle.nn.Conv2DTranspose(in_channels, \r\n",
    "                                                           out_channels, \r\n",
    "                                                           kernel_size=3, \r\n",
    "                                                           padding=1)\r\n",
    "        self.conv_transpose_02 = paddle.nn.Conv2DTranspose(out_channels, \r\n",
    "                                                           out_channels, \r\n",
    "                                                           kernel_size=3, \r\n",
    "                                                           padding=1)\r\n",
    "        self.bns = paddle.nn.LayerList(\r\n",
    "            [paddle.nn.BatchNorm2D(out_channels) for i in range(2)]\r\n",
    "        )\r\n",
    "        self.upsamples = paddle.nn.LayerList(\r\n",
    "            [paddle.nn.Upsample(scale_factor=2.0) for i in range(2)]\r\n",
    "        )\r\n",
    "        self.residual_conv = paddle.nn.Conv2D(in_channels, \r\n",
    "                                              out_channels, \r\n",
    "                                              kernel_size=1, \r\n",
    "                                              padding='same')\r\n",
    "\r\n",
    "    def forward(self, inputs):\r\n",
    "        previous_block_activation = inputs\r\n",
    "\r\n",
    "        y = self.relus[0](inputs)\r\n",
    "        y = self.conv_transpose_01(y)\r\n",
    "        y = self.bns[0](y)\r\n",
    "        y = self.relus[1](y)\r\n",
    "        y = self.conv_transpose_02(y)\r\n",
    "        y = self.bns[1](y)\r\n",
    "        y = self.upsamples[0](y)\r\n",
    "        \r\n",
    "        residual = self.upsamples[1](previous_block_activation)\r\n",
    "        residual = self.residual_conv(residual)\r\n",
    "        \r\n",
    "        y = paddle.add(y, residual)\r\n",
    "        \r\n",
    "        return y"
   ]
  },
  {
   "cell_type": "markdown",
   "metadata": {
    "collapsed": false
   },
   "source": [
    "### 3.3.4 训练模型组网\n",
    "\n",
    "按照U型网络结构格式进行整体的网络结构搭建，三次下采样，四次上采样。"
   ]
  },
  {
   "cell_type": "code",
   "execution_count": 11,
   "metadata": {
    "collapsed": false
   },
   "outputs": [],
   "source": [
    "class PetNet(paddle.nn.Layer):\r\n",
    "    def __init__(self, num_classes):\r\n",
    "        super(PetNet, self).__init__()\r\n",
    "\r\n",
    "        self.conv_1 = paddle.nn.Conv2D(3, 32, \r\n",
    "                                       kernel_size=3,\r\n",
    "                                       stride=2,\r\n",
    "                                       padding='same')\r\n",
    "        self.bn = paddle.nn.BatchNorm2D(32)\r\n",
    "        self.relu = paddle.nn.ReLU()\r\n",
    "\r\n",
    "        in_channels = 32\r\n",
    "        self.encoders = []\r\n",
    "        self.encoder_list = [64, 128, 256]\r\n",
    "        self.decoder_list = [256, 128, 64, 32]\r\n",
    "\r\n",
    "        # 根据下采样个数和配置循环定义子Layer，避免重复写一样的程序\r\n",
    "        for out_channels in self.encoder_list:\r\n",
    "            block = self.add_sublayer('encoder_{}'.format(out_channels),\r\n",
    "                                      Encoder(in_channels, out_channels))\r\n",
    "            self.encoders.append(block)\r\n",
    "            in_channels = out_channels\r\n",
    "\r\n",
    "        self.decoders = []\r\n",
    "\r\n",
    "        # 根据上采样个数和配置循环定义子Layer，避免重复写一样的程序\r\n",
    "        for out_channels in self.decoder_list:\r\n",
    "            block = self.add_sublayer('decoder_{}'.format(out_channels), \r\n",
    "                                      Decoder(in_channels, out_channels))\r\n",
    "            self.decoders.append(block)\r\n",
    "            in_channels = out_channels\r\n",
    "\r\n",
    "        self.output_conv = paddle.nn.Conv2D(in_channels, \r\n",
    "                                            num_classes, \r\n",
    "                                            kernel_size=3, \r\n",
    "                                            padding='same')\r\n",
    "    \r\n",
    "\r\n",
    "\r\n",
    "    def forward(self, inputs):\r\n",
    "        y = self.conv_1(inputs)\r\n",
    "        y = self.bn(y)\r\n",
    "        y = self.relu(y)\r\n",
    "        \r\n",
    "        for encoder in self.encoders:\r\n",
    "            y = encoder(y)\r\n",
    "\r\n",
    "        for decoder in self.decoders:\r\n",
    "            y = decoder(y)\r\n",
    "        \r\n",
    "        y = self.output_conv(y)\r\n",
    "\r\n",
    "        return y"
   ]
  },
  {
   "cell_type": "markdown",
   "metadata": {
    "collapsed": false
   },
   "source": [
    "## 3.4 模型可视化\n",
    "\n",
    "调用飞桨提供的summary接口对组建好的模型进行可视化，方便进行模型结构和参数信息的查看和确认。"
   ]
  },
  {
   "cell_type": "code",
   "execution_count": 12,
   "metadata": {
    "collapsed": false
   },
   "outputs": [
    {
     "name": "stdout",
     "output_type": "stream",
     "text": [
      "-----------------------------------------------------------------------------\n",
      "  Layer (type)        Input Shape          Output Shape         Param #    \n",
      "=============================================================================\n",
      "    Conv2D-1       [[1, 3, 512, 512]]   [1, 32, 256, 256]         896      \n",
      "  BatchNorm2D-1   [[1, 32, 256, 256]]   [1, 32, 256, 256]         128      \n",
      "     ReLU-1       [[1, 32, 256, 256]]   [1, 32, 256, 256]          0       \n",
      "     ReLU-2       [[1, 32, 256, 256]]   [1, 32, 256, 256]          0       \n",
      "SeparableConv2D-1 [[1, 32, 256, 256]]   [1, 64, 256, 256]        2,400     \n",
      "  BatchNorm2D-2   [[1, 64, 256, 256]]   [1, 64, 256, 256]         256      \n",
      "     ReLU-3       [[1, 64, 256, 256]]   [1, 64, 256, 256]          0       \n",
      "SeparableConv2D-2 [[1, 64, 256, 256]]   [1, 64, 256, 256]        4,736     \n",
      "  BatchNorm2D-3   [[1, 64, 256, 256]]   [1, 64, 256, 256]         256      \n",
      "   MaxPool2D-1    [[1, 64, 256, 256]]   [1, 64, 128, 128]          0       \n",
      "    Conv2D-2      [[1, 32, 256, 256]]   [1, 64, 128, 128]        2,112     \n",
      "    Encoder-1     [[1, 32, 256, 256]]   [1, 64, 128, 128]          0       \n",
      "     ReLU-4       [[1, 64, 128, 128]]   [1, 64, 128, 128]          0       \n",
      "SeparableConv2D-3 [[1, 64, 128, 128]]   [1, 128, 128, 128]       8,896     \n",
      "  BatchNorm2D-4   [[1, 128, 128, 128]]  [1, 128, 128, 128]        512      \n",
      "     ReLU-5       [[1, 128, 128, 128]]  [1, 128, 128, 128]         0       \n",
      "SeparableConv2D-4 [[1, 128, 128, 128]]  [1, 128, 128, 128]      17,664     \n",
      "  BatchNorm2D-5   [[1, 128, 128, 128]]  [1, 128, 128, 128]        512      \n",
      "   MaxPool2D-2    [[1, 128, 128, 128]]   [1, 128, 64, 64]          0       \n",
      "    Conv2D-3      [[1, 64, 128, 128]]    [1, 128, 64, 64]        8,320     \n",
      "    Encoder-2     [[1, 64, 128, 128]]    [1, 128, 64, 64]          0       \n",
      "     ReLU-6        [[1, 128, 64, 64]]    [1, 128, 64, 64]          0       \n",
      "SeparableConv2D-5  [[1, 128, 64, 64]]    [1, 256, 64, 64]       34,176     \n",
      "  BatchNorm2D-6    [[1, 256, 64, 64]]    [1, 256, 64, 64]        1,024     \n",
      "     ReLU-7        [[1, 256, 64, 64]]    [1, 256, 64, 64]          0       \n",
      "SeparableConv2D-6  [[1, 256, 64, 64]]    [1, 256, 64, 64]       68,096     \n",
      "  BatchNorm2D-7    [[1, 256, 64, 64]]    [1, 256, 64, 64]        1,024     \n",
      "   MaxPool2D-3     [[1, 256, 64, 64]]    [1, 256, 32, 32]          0       \n",
      "    Conv2D-4       [[1, 128, 64, 64]]    [1, 256, 32, 32]       33,024     \n",
      "    Encoder-3      [[1, 128, 64, 64]]    [1, 256, 32, 32]          0       \n",
      "     ReLU-8        [[1, 256, 32, 32]]    [1, 256, 32, 32]          0       \n",
      "Conv2DTranspose-1  [[1, 256, 32, 32]]    [1, 256, 32, 32]       590,080    \n",
      "  BatchNorm2D-8    [[1, 256, 32, 32]]    [1, 256, 32, 32]        1,024     \n",
      "     ReLU-9        [[1, 256, 32, 32]]    [1, 256, 32, 32]          0       \n",
      "Conv2DTranspose-2  [[1, 256, 32, 32]]    [1, 256, 32, 32]       590,080    \n",
      "  BatchNorm2D-9    [[1, 256, 32, 32]]    [1, 256, 32, 32]        1,024     \n",
      "   Upsample-1      [[1, 256, 32, 32]]    [1, 256, 64, 64]          0       \n",
      "   Upsample-2      [[1, 256, 32, 32]]    [1, 256, 64, 64]          0       \n",
      "    Conv2D-5       [[1, 256, 64, 64]]    [1, 256, 64, 64]       65,792     \n",
      "    Decoder-1      [[1, 256, 32, 32]]    [1, 256, 64, 64]          0       \n",
      "     ReLU-10       [[1, 256, 64, 64]]    [1, 256, 64, 64]          0       \n",
      "Conv2DTranspose-3  [[1, 256, 64, 64]]    [1, 128, 64, 64]       295,040    \n",
      " BatchNorm2D-10    [[1, 128, 64, 64]]    [1, 128, 64, 64]         512      \n",
      "     ReLU-11       [[1, 128, 64, 64]]    [1, 128, 64, 64]          0       \n",
      "Conv2DTranspose-4  [[1, 128, 64, 64]]    [1, 128, 64, 64]       147,584    \n",
      " BatchNorm2D-11    [[1, 128, 64, 64]]    [1, 128, 64, 64]         512      \n",
      "   Upsample-3      [[1, 128, 64, 64]]   [1, 128, 128, 128]         0       \n",
      "   Upsample-4      [[1, 256, 64, 64]]   [1, 256, 128, 128]         0       \n",
      "    Conv2D-6      [[1, 256, 128, 128]]  [1, 128, 128, 128]      32,896     \n",
      "    Decoder-2      [[1, 256, 64, 64]]   [1, 128, 128, 128]         0       \n",
      "     ReLU-12      [[1, 128, 128, 128]]  [1, 128, 128, 128]         0       \n",
      "Conv2DTranspose-5 [[1, 128, 128, 128]]  [1, 64, 128, 128]       73,792     \n",
      " BatchNorm2D-12   [[1, 64, 128, 128]]   [1, 64, 128, 128]         256      \n",
      "     ReLU-13      [[1, 64, 128, 128]]   [1, 64, 128, 128]          0       \n",
      "Conv2DTranspose-6 [[1, 64, 128, 128]]   [1, 64, 128, 128]       36,928     \n",
      " BatchNorm2D-13   [[1, 64, 128, 128]]   [1, 64, 128, 128]         256      \n",
      "   Upsample-5     [[1, 64, 128, 128]]   [1, 64, 256, 256]          0       \n",
      "   Upsample-6     [[1, 128, 128, 128]]  [1, 128, 256, 256]         0       \n",
      "    Conv2D-7      [[1, 128, 256, 256]]  [1, 64, 256, 256]        8,256     \n",
      "    Decoder-3     [[1, 128, 128, 128]]  [1, 64, 256, 256]          0       \n",
      "     ReLU-14      [[1, 64, 256, 256]]   [1, 64, 256, 256]          0       \n",
      "Conv2DTranspose-7 [[1, 64, 256, 256]]   [1, 32, 256, 256]       18,464     \n",
      " BatchNorm2D-14   [[1, 32, 256, 256]]   [1, 32, 256, 256]         128      \n",
      "     ReLU-15      [[1, 32, 256, 256]]   [1, 32, 256, 256]          0       \n",
      "Conv2DTranspose-8 [[1, 32, 256, 256]]   [1, 32, 256, 256]        9,248     \n",
      " BatchNorm2D-15   [[1, 32, 256, 256]]   [1, 32, 256, 256]         128      \n",
      "   Upsample-7     [[1, 32, 256, 256]]   [1, 32, 512, 512]          0       \n",
      "   Upsample-8     [[1, 64, 256, 256]]   [1, 64, 512, 512]          0       \n",
      "    Conv2D-8      [[1, 64, 512, 512]]   [1, 32, 512, 512]        2,080     \n",
      "    Decoder-4     [[1, 64, 256, 256]]   [1, 32, 512, 512]          0       \n",
      "    Conv2D-9      [[1, 32, 512, 512]]    [1, 4, 512, 512]        1,156     \n",
      "=============================================================================\n",
      "Total params: 2,059,268\n",
      "Trainable params: 2,051,716\n",
      "Non-trainable params: 7,552\n",
      "-----------------------------------------------------------------------------\n",
      "Input size (MB): 3.00\n",
      "Forward/backward pass size (MB): 1206.00\n",
      "Params size (MB): 7.86\n",
      "Estimated Total Size (MB): 1216.86\n",
      "-----------------------------------------------------------------------------\n",
      "\n"
     ]
    },
    {
     "data": {
      "text/plain": [
       "{'total_params': 2059268, 'trainable_params': 2051716}"
      ]
     },
     "execution_count": 12,
     "metadata": {},
     "output_type": "execute_result"
    }
   ],
   "source": [
    "IMAGE_SIZE = (512, 512)\r\n",
    "num_classes =4\r\n",
    "network = PetNet(num_classes)\r\n",
    "model = paddle.Model(network)\r\n",
    "model.summary((-1, 3,) + IMAGE_SIZE)"
   ]
  },
  {
   "cell_type": "markdown",
   "metadata": {
    "collapsed": false
   },
   "source": [
    "## 3.5 模型训练\n",
    "\n",
    "### 启动模型训练\n",
    "\n",
    "使用模型代码进行Model实例生成，使用prepare接口定义优化器、损失函数和评价指标等信息，用于后续训练使用。在所有初步配置完成后，调用fit接口开启训练执行过程，调用fit时只需要将前面定义好的训练数据集、测试数据集、训练轮次（Epoch）和批次大小（batch_size）配置好即可。"
   ]
  },
  {
   "cell_type": "code",
   "execution_count": 13,
   "metadata": {
    "collapsed": false
   },
   "outputs": [],
   "source": [
    "radio=0.9\r\n",
    "\r\n",
    "train_ds =dataset(image_list[:int(len(image_list)*radio)],label_list[:int(len(label_list)*radio)],'train')\r\n",
    "val_ds=dataset(image_list[int(len(image_list)*radio):],label_list[int(len(label_list)*radio):],'valid')\r\n",
    "\r\n",
    "train_loader = paddle.io.DataLoader(train_ds, places=paddle.CPUPlace(), batch_size=32, shuffle=True, num_workers=0)\r\n",
    "val_loader = paddle.io.DataLoader(val_ds, places=paddle.CPUPlace(), batch_size=32, shuffle=False, num_workers=0)\r\n",
    "#test_dataset=dataset(test_list,test_label,'test')"
   ]
  },
  {
   "cell_type": "code",
   "execution_count": 14,
   "metadata": {
    "collapsed": false
   },
   "outputs": [],
   "source": [
    "test_ds =dataset(test_images,test_label,'test')\r\n",
    "test_loader = paddle.io.DataLoader(test_ds, places=paddle.CPUPlace(), batch_size=32, shuffle=False, num_workers=0)"
   ]
  },
  {
   "cell_type": "code",
   "execution_count": 16,
   "metadata": {
    "collapsed": false
   },
   "outputs": [
    {
     "name": "stdout",
     "output_type": "stream",
     "text": [
      "aaaaaaaaaaaaaaaaaaa\n",
      "(1, 512, 512)\n",
      "[[[1 1 1 ... 1 1 1]\n",
      "  [1 1 1 ... 1 1 1]\n",
      "  [1 1 1 ... 1 1 1]\n",
      "  ...\n",
      "  [1 1 1 ... 1 1 1]\n",
      "  [1 1 1 ... 1 1 1]\n",
      "  [1 1 1 ... 1 1 1]]]\n"
     ]
    },
    {
     "data": {
      "image/png": "[encoded data removed]",
      "text/plain": [
       "<Figure size 432x288 with 1 Axes>"
      ]
     },
     "metadata": {},
     "output_type": "display_data"
    }
   ],
   "source": [
    "for id,data in enumerate(train_ds):\r\n",
    "    print('aaaaaaaaaaaaaaaaaaa')\r\n",
    "    img,lb=data\r\n",
    "\r\n",
    "    print(lb.shape)\r\n",
    "    print(lb)\r\n",
    "    lb=lb.reshape(512,512)\r\n",
    "    plt.imshow(lb)\r\n",
    "    break"
   ]
  },
  {
   "cell_type": "code",
   "execution_count": null,
   "metadata": {
    "collapsed": false
   },
   "outputs": [],
   "source": [
    "train_ds = PetDataset(mode='train') # 训练数据集\r\n",
    "val_ds = PetDataset(mode='test') # 验证数据集"
   ]
  },
  {
   "cell_type": "code",
   "execution_count": 18,
   "metadata": {
    "collapsed": false
   },
   "outputs": [
    {
     "name": "stdout",
     "output_type": "stream",
     "text": [
      "The loss value printed in the log is the current step, and the metric is the average value of previous steps.\n",
      "Epoch 1/15\n"
     ]
    },
    {
     "name": "stderr",
     "output_type": "stream",
     "text": [
      "/opt/conda/envs/python35-paddle120-env/lib/python3.7/site-packages/paddle/fluid/layers/utils.py:77: DeprecationWarning: Using or importing the ABCs from 'collections' instead of from 'collections.abc' is deprecated, and in 3.8 it will stop working\n",
      "  return (isinstance(seq, collections.Sequence) and\n",
      "/opt/conda/envs/python35-paddle120-env/lib/python3.7/site-packages/paddle/nn/layer/norm.py:641: UserWarning: When training, we now always track global mean and variance.\n",
      "  \"When training, we now always track global mean and variance.\")\n"
     ]
    },
    {
     "name": "stdout",
     "output_type": "stream",
     "text": [
      "step 23/23 [==============================] - loss: 0.3865 - 3s/step         \n",
      "save checkpoint at /home/aistudio/work/lup/0\n",
      "Eval begin...\n",
      "step 3/3 [==============================] - loss: 0.1588 - 3s/step\n",
      "Eval samples: 80\n",
      "Epoch 2/15\n",
      "step 23/23 [==============================] - loss: 0.1825 - 3s/step        \n",
      "save checkpoint at /home/aistudio/work/lup/1\n",
      "Eval begin...\n",
      "step 3/3 [==============================] - loss: 0.1759 - 2s/step\n",
      "Eval samples: 80\n",
      "Epoch 3/15\n",
      "step 23/23 [==============================] - loss: 0.1508 - 3s/step        \n",
      "save checkpoint at /home/aistudio/work/lup/2\n",
      "Eval begin...\n",
      "step 3/3 [==============================] - loss: 0.1737 - 2s/step\n",
      "Eval samples: 80\n",
      "Epoch 4/15\n",
      "step 23/23 [==============================] - loss: 0.1683 - 3s/step        \n",
      "save checkpoint at /home/aistudio/work/lup/3\n",
      "Eval begin...\n",
      "step 3/3 [==============================] - loss: 0.1259 - 2s/step\n",
      "Eval samples: 80\n",
      "Epoch 5/15\n",
      "step 23/23 [==============================] - loss: 0.2690 - 3s/step        \n",
      "save checkpoint at /home/aistudio/work/lup/4\n",
      "Eval begin...\n",
      "step 3/3 [==============================] - loss: 0.1288 - 2s/step\n",
      "Eval samples: 80\n",
      "Epoch 6/15\n",
      "step 23/23 [==============================] - loss: 0.1912 - 3s/step        \n",
      "save checkpoint at /home/aistudio/work/lup/5\n",
      "Eval begin...\n",
      "step 3/3 [==============================] - loss: 0.1273 - 2s/step\n",
      "Eval samples: 80\n",
      "Epoch 7/15\n",
      "step 23/23 [==============================] - loss: 0.1518 - 3s/step        \n",
      "save checkpoint at /home/aistudio/work/lup/6\n",
      "Eval begin...\n",
      "step 3/3 [==============================] - loss: 0.1273 - 2s/step\n",
      "Eval samples: 80\n",
      "Epoch 8/15\n",
      "step 23/23 [==============================] - loss: 0.1284 - 3s/step        \n",
      "save checkpoint at /home/aistudio/work/lup/7\n",
      "Eval begin...\n",
      "step 3/3 [==============================] - loss: 0.1031 - 2s/step\n",
      "Eval samples: 80\n",
      "Epoch 9/15\n",
      "step 23/23 [==============================] - loss: 0.1134 - 3s/step        \n",
      "save checkpoint at /home/aistudio/work/lup/8\n",
      "Eval begin...\n",
      "step 3/3 [==============================] - loss: 0.1031 - 2s/step\n",
      "Eval samples: 80\n",
      "Epoch 10/15\n",
      "step 23/23 [==============================] - loss: 0.1124 - 3s/step        \n",
      "save checkpoint at /home/aistudio/work/lup/9\n",
      "Eval begin...\n",
      "step 3/3 [==============================] - loss: 0.0995 - 2s/step\n",
      "Eval samples: 80\n",
      "Epoch 11/15\n",
      "step 23/23 [==============================] - loss: 0.1047 - 3s/step        \n",
      "save checkpoint at /home/aistudio/work/lup/10\n",
      "Eval begin...\n",
      "step 3/3 [==============================] - loss: 0.0976 - 2s/step\n",
      "Eval samples: 80\n",
      "Epoch 12/15\n",
      "step 23/23 [==============================] - loss: 0.1375 - 3s/step        \n",
      "save checkpoint at /home/aistudio/work/lup/11\n",
      "Eval begin...\n",
      "step 3/3 [==============================] - loss: 0.0988 - 2s/step\n",
      "Eval samples: 80\n",
      "Epoch 13/15\n",
      "step 23/23 [==============================] - loss: 0.1043 - 3s/step        \n",
      "save checkpoint at /home/aistudio/work/lup/12\n",
      "Eval begin...\n",
      "step 3/3 [==============================] - loss: 0.0989 - 2s/step\n",
      "Eval samples: 80\n",
      "Epoch 14/15\n",
      "step 23/23 [==============================] - loss: 0.1387 - 3s/step        \n",
      "save checkpoint at /home/aistudio/work/lup/13\n",
      "Eval begin...\n",
      "step 3/3 [==============================] - loss: 0.0982 - 2s/step\n",
      "Eval samples: 80\n",
      "Epoch 15/15\n",
      "step 23/23 [==============================] - loss: 0.1294 - 3s/step        \n",
      "save checkpoint at /home/aistudio/work/lup/14\n",
      "Eval begin...\n",
      "step 3/3 [==============================] - loss: 0.0966 - 2s/step\n",
      "Eval samples: 80\n",
      "save checkpoint at /home/aistudio/work/lup/final\n"
     ]
    }
   ],
   "source": [
    "network = PetNet(num_classes)\r\n",
    "model = paddle.Model(network)\r\n",
    "#model.load('/home/aistudio/work/lup/final')\r\n",
    "\r\n",
    "Batch_size=32\r\n",
    "EPOCHS=15\r\n",
    "step_each_epoch = len(train_ds)//Batch_size\r\n",
    "\r\n",
    "\r\n",
    "lr = paddle.optimizer.lr.CosineAnnealingDecay(learning_rate=1e-4,\r\n",
    "                                                T_max=step_each_epoch * EPOCHS)\r\n",
    "\r\n",
    "# 定义Adam优化器\r\n",
    "optimizer = paddle.optimizer.Adam(learning_rate=lr,\r\n",
    "                                weight_decay=1e-5,\r\n",
    "                                parameters=model.parameters())\r\n",
    "\r\n",
    "model.prepare(optimizer, paddle.nn.CrossEntropyLoss(axis=1))\r\n",
    "\r\n",
    "\r\n",
    "model.fit(train_loader, \r\n",
    "          val_loader, \r\n",
    "          epochs=EPOCHS, \r\n",
    "          batch_size=Batch_size,\r\n",
    "          save_dir=\"/home/aistudio/work/lup\", #把模型参数、优化器参数保存至自定义的文件夹\r\n",
    "          save_freq=1,                    #设定每隔多少个epoch保存模型参数及优化器参数          \r\n",
    "          verbose=1)"
   ]
  },
  {
   "cell_type": "markdown",
   "metadata": {
    "collapsed": false
   },
   "source": [
    "# （4）模型预测及结果生成"
   ]
  },
  {
   "cell_type": "code",
   "execution_count": 19,
   "metadata": {
    "collapsed": false
   },
   "outputs": [
    {
     "name": "stdout",
     "output_type": "stream",
     "text": [
      "Predict begin...\n",
      "step 13/13 [==============================] - 3s/step         \n",
      "Predict samples: 400\n"
     ]
    }
   ],
   "source": [
    "\r\n",
    "model.load('/home/aistudio/work/lup/final')\r\n",
    "result = model.predict(test_loader)"
   ]
  },
  {
   "cell_type": "code",
   "execution_count": 20,
   "metadata": {
    "collapsed": false
   },
   "outputs": [],
   "source": [
    "pred=[]\r\n",
    "for i in range(len(result[0])):\r\n",
    "    pred.extend(result[0][i])"
   ]
  },
  {
   "cell_type": "code",
   "execution_count": 38,
   "metadata": {
    "collapsed": false
   },
   "outputs": [
    {
     "name": "stdout",
     "output_type": "stream",
     "text": [
      "(224, 224, 4)\n",
      "float32\n",
      "[[255 255 255 ... 255 255 255]\n",
      " [255 255 255 ... 255 255 255]\n",
      " [255 255 255 ... 255 255 255]\n",
      " ...\n",
      " [255 255 255 ... 255 255 255]\n",
      " [255 255 255 ... 255 255 255]\n",
      " [255 255 255 ... 255 255 255]]\n"
     ]
    },
    {
     "data": {
      "image/png": "[encoded data removed]",
      "text/plain": [
       "<Figure size 432x288 with 1 Axes>"
      ]
     },
     "metadata": {},
     "output_type": "display_data"
    }
   ],
   "source": [
    "im=pred[2].transpose([1,2,0])\r\n",
    "print(im.shape)\r\n",
    "print(im.dtype)\r\n",
    "\r\n",
    "\r\n",
    "mask = np.argmax(im, axis=-1)*255\r\n",
    "\r\n",
    "plt.imshow(mask.astype('uint8'), cmap='gray')\r\n",
    "plt.show()\r\n",
    "print(mask)\r\n",
    "\r\n",
    "\r\n"
   ]
  },
  {
   "cell_type": "code",
   "execution_count": null,
   "metadata": {
    "collapsed": false
   },
   "outputs": [
    {
     "name": "stdout",
     "output_type": "stream",
     "text": [
      "[[1444 1444    3]\n",
      " [2056 2124    3]\n",
      " [2056 2124    3]\n",
      " ...\n",
      " [2056 2124    3]\n",
      " [1444 1444    3]\n",
      " [2056 2124    3]]\n"
     ]
    }
   ],
   "source": [
    "print(test_size)"
   ]
  },
  {
   "cell_type": "code",
   "execution_count": 41,
   "metadata": {
    "collapsed": false
   },
   "outputs": [],
   "source": [
    "from paddle.vision.transforms import Resize\r\n",
    "\r\n",
    "result_list = os.listdir('Disc_Segmentation')\r\n",
    "for i in range(len(result_list)):\r\n",
    "    os.remove('Disc_Segmentation/'+result_list[i])\r\n",
    "\r\n",
    "\r\n",
    "\r\n",
    "for i in range(len(pred)):\r\n",
    "    \r\n",
    "    \r\n",
    "    img=pred[i].transpose([1,2,0])\r\n",
    "    img=cv2.resize(img,tuple([test_size[i][1],test_size[i][0]]))\r\n",
    "\r\n",
    "    img = np.argmax(img, axis=-1)*255\r\n",
    "    #_,img = cv2.threshold(img, 127, 255, cv2.THRESH_BINARY_INV)\r\n",
    "\r\n",
    " \r\n",
    "\r\n",
    "\r\n",
    "    cv2.imwrite('/home/aistudio/Disc_Segmentation/'+test_list[i][:-4]+'.png',img)"
   ]
  },
  {
   "cell_type": "code",
   "execution_count": 42,
   "metadata": {
    "collapsed": false
   },
   "outputs": [],
   "source": [
    "!zip -r Disc_Segmentation.zip 'Disc_Segmentation' "
   ]
  },
  {
   "cell_type": "markdown",
   "metadata": {
    "collapsed": false
   },
   "source": [
    "# （5）总结+改进完善方向\n",
    "1、多试几个的预训练模型。\n",
    "\n",
    "2、选择合适的学习率。\n",
    "\n",
    "3、更换别的优化器。"
   ]
  },
  {
   "cell_type": "markdown",
   "metadata": {
    "collapsed": false
   },
   "source": [
    "# （6）飞桨使用体验+给其他选手学习飞桨的建议\n",
    "建议大家多参加百度AI Studio课程，多看别人写的AI Studio项目，也许会有灵感迸发，在比赛中取得更好的成绩。"
   ]
  },
  {
   "cell_type": "markdown",
   "metadata": {
    "collapsed": false
   },
   "source": [
    "# （7）One More Thing\n",
    "眼底彩照视盘探测与分割相关论文\n",
    "\n",
    "1.[Detection of Pathological Myopia and Optic Disc Segmentation with Deep Convolutional Neural Networks](https://ieeexplore.ieee.org/abstract/document/8929252)\n",
    "\n",
    "2.[Patch-Based Output Space Adversarial Learning for Joint Optic Disc and Cup Segmentation](https://ieeexplore.ieee.org/abstract/document/8643416/)"
   ]
  }
 ],
 "metadata": {
  "kernelspec": {
   "display_name": "PaddlePaddle 2.1.2 (Python 3.5)",
   "language": "python",
   "name": "py35-paddle1.2.0"
  },
  "language_info": {
   "codemirror_mode": {
    "name": "ipython",
    "version": 3
   },
   "file_extension": ".py",
   "mimetype": "text/x-python",
   "name": "python",
   "nbconvert_exporter": "python",
   "pygments_lexer": "ipython3",
   "version": "3.7.4"
  }
 },
 "nbformat": 4,
 "nbformat_minor": 1
}
